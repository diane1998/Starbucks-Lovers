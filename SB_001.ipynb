{
 "cells": [
  {
   "cell_type": "code",
   "execution_count": 1,
   "metadata": {},
   "outputs": [
    {
     "ename": "ModuleNotFoundError",
     "evalue": "No module named 'numpy.core._internal'",
     "output_type": "error",
     "traceback": [
      "\u001b[1;31m---------------------------------------------------------------------------\u001b[0m",
      "\u001b[1;31mModuleNotFoundError\u001b[0m                       Traceback (most recent call last)",
      "\u001b[1;32m<ipython-input-1-de77f79eddb3>\u001b[0m in \u001b[0;36m<module>\u001b[1;34m()\u001b[0m\n\u001b[0;32m      1\u001b[0m \u001b[1;32mimport\u001b[0m \u001b[0mcsv\u001b[0m\u001b[1;33m\u001b[0m\u001b[0m\n\u001b[1;32m----> 2\u001b[1;33m \u001b[1;32mimport\u001b[0m \u001b[0mnumpy\u001b[0m \u001b[1;32mas\u001b[0m \u001b[0mnp\u001b[0m\u001b[1;33m\u001b[0m\u001b[0m\n\u001b[0m\u001b[0;32m      3\u001b[0m \u001b[1;32mimport\u001b[0m \u001b[0mpandas\u001b[0m \u001b[1;32mas\u001b[0m \u001b[0mpd\u001b[0m\u001b[1;33m\u001b[0m\u001b[0m\n\u001b[0;32m      4\u001b[0m \u001b[1;32mfrom\u001b[0m \u001b[0mpandas\u001b[0m \u001b[1;32mimport\u001b[0m \u001b[0mSeries\u001b[0m\u001b[1;33m\u001b[0m\u001b[0m\n\u001b[0;32m      5\u001b[0m \u001b[1;32mimport\u001b[0m \u001b[0mmatplotlib\u001b[0m\u001b[1;33m\u001b[0m\u001b[0m\n",
      "\u001b[1;32md:\\kat\\01 desktop\\2nd year 1st term\\phyton\\lib\\site-packages\\numpy\\__init__.py\u001b[0m in \u001b[0;36m<module>\u001b[1;34m()\u001b[0m\n\u001b[0;32m    140\u001b[0m         \u001b[1;32mreturn\u001b[0m \u001b[0mloader\u001b[0m\u001b[1;33m(\u001b[0m\u001b[1;33m*\u001b[0m\u001b[0mpackages\u001b[0m\u001b[1;33m,\u001b[0m \u001b[1;33m**\u001b[0m\u001b[0moptions\u001b[0m\u001b[1;33m)\u001b[0m\u001b[1;33m\u001b[0m\u001b[0m\n\u001b[0;32m    141\u001b[0m \u001b[1;33m\u001b[0m\u001b[0m\n\u001b[1;32m--> 142\u001b[1;33m     \u001b[1;32mfrom\u001b[0m \u001b[1;33m.\u001b[0m \u001b[1;32mimport\u001b[0m \u001b[0madd_newdocs\u001b[0m\u001b[1;33m\u001b[0m\u001b[0m\n\u001b[0m\u001b[0;32m    143\u001b[0m     __all__ = ['add_newdocs',\n\u001b[0;32m    144\u001b[0m                \u001b[1;34m'ModuleDeprecationWarning'\u001b[0m\u001b[1;33m,\u001b[0m\u001b[1;33m\u001b[0m\u001b[0m\n",
      "\u001b[1;32md:\\kat\\01 desktop\\2nd year 1st term\\phyton\\lib\\site-packages\\numpy\\add_newdocs.py\u001b[0m in \u001b[0;36m<module>\u001b[1;34m()\u001b[0m\n\u001b[0;32m     11\u001b[0m \u001b[1;32mfrom\u001b[0m \u001b[0m__future__\u001b[0m \u001b[1;32mimport\u001b[0m \u001b[0mdivision\u001b[0m\u001b[1;33m,\u001b[0m \u001b[0mabsolute_import\u001b[0m\u001b[1;33m,\u001b[0m \u001b[0mprint_function\u001b[0m\u001b[1;33m\u001b[0m\u001b[0m\n\u001b[0;32m     12\u001b[0m \u001b[1;33m\u001b[0m\u001b[0m\n\u001b[1;32m---> 13\u001b[1;33m \u001b[1;32mfrom\u001b[0m \u001b[0mnumpy\u001b[0m\u001b[1;33m.\u001b[0m\u001b[0mlib\u001b[0m \u001b[1;32mimport\u001b[0m \u001b[0madd_newdoc\u001b[0m\u001b[1;33m\u001b[0m\u001b[0m\n\u001b[0m\u001b[0;32m     14\u001b[0m \u001b[1;33m\u001b[0m\u001b[0m\n\u001b[0;32m     15\u001b[0m \u001b[1;31m###############################################################################\u001b[0m\u001b[1;33m\u001b[0m\u001b[1;33m\u001b[0m\u001b[0m\n",
      "\u001b[1;32md:\\kat\\01 desktop\\2nd year 1st term\\phyton\\lib\\site-packages\\numpy\\lib\\__init__.py\u001b[0m in \u001b[0;36m<module>\u001b[1;34m()\u001b[0m\n\u001b[0;32m      6\u001b[0m \u001b[1;32mfrom\u001b[0m \u001b[0mnumpy\u001b[0m\u001b[1;33m.\u001b[0m\u001b[0mversion\u001b[0m \u001b[1;32mimport\u001b[0m \u001b[0mversion\u001b[0m \u001b[1;32mas\u001b[0m \u001b[0m__version__\u001b[0m\u001b[1;33m\u001b[0m\u001b[0m\n\u001b[0;32m      7\u001b[0m \u001b[1;33m\u001b[0m\u001b[0m\n\u001b[1;32m----> 8\u001b[1;33m \u001b[1;32mfrom\u001b[0m \u001b[1;33m.\u001b[0m\u001b[0mtype_check\u001b[0m \u001b[1;32mimport\u001b[0m \u001b[1;33m*\u001b[0m\u001b[1;33m\u001b[0m\u001b[0m\n\u001b[0m\u001b[0;32m      9\u001b[0m \u001b[1;32mfrom\u001b[0m \u001b[1;33m.\u001b[0m\u001b[0mindex_tricks\u001b[0m \u001b[1;32mimport\u001b[0m \u001b[1;33m*\u001b[0m\u001b[1;33m\u001b[0m\u001b[0m\n\u001b[0;32m     10\u001b[0m \u001b[1;32mfrom\u001b[0m \u001b[1;33m.\u001b[0m\u001b[0mfunction_base\u001b[0m \u001b[1;32mimport\u001b[0m \u001b[1;33m*\u001b[0m\u001b[1;33m\u001b[0m\u001b[0m\n",
      "\u001b[1;32md:\\kat\\01 desktop\\2nd year 1st term\\phyton\\lib\\site-packages\\numpy\\lib\\type_check.py\u001b[0m in \u001b[0;36m<module>\u001b[1;34m()\u001b[0m\n\u001b[0;32m      9\u001b[0m            'common_type']\n\u001b[0;32m     10\u001b[0m \u001b[1;33m\u001b[0m\u001b[0m\n\u001b[1;32m---> 11\u001b[1;33m \u001b[1;32mimport\u001b[0m \u001b[0mnumpy\u001b[0m\u001b[1;33m.\u001b[0m\u001b[0mcore\u001b[0m\u001b[1;33m.\u001b[0m\u001b[0mnumeric\u001b[0m \u001b[1;32mas\u001b[0m \u001b[0m_nx\u001b[0m\u001b[1;33m\u001b[0m\u001b[0m\n\u001b[0m\u001b[0;32m     12\u001b[0m \u001b[1;32mfrom\u001b[0m \u001b[0mnumpy\u001b[0m\u001b[1;33m.\u001b[0m\u001b[0mcore\u001b[0m\u001b[1;33m.\u001b[0m\u001b[0mnumeric\u001b[0m \u001b[1;32mimport\u001b[0m \u001b[0masarray\u001b[0m\u001b[1;33m,\u001b[0m \u001b[0masanyarray\u001b[0m\u001b[1;33m,\u001b[0m \u001b[0marray\u001b[0m\u001b[1;33m,\u001b[0m \u001b[0misnan\u001b[0m\u001b[1;33m,\u001b[0m \u001b[0mzeros\u001b[0m\u001b[1;33m\u001b[0m\u001b[0m\n\u001b[0;32m     13\u001b[0m \u001b[1;32mfrom\u001b[0m \u001b[1;33m.\u001b[0m\u001b[0mufunclike\u001b[0m \u001b[1;32mimport\u001b[0m \u001b[0misneginf\u001b[0m\u001b[1;33m,\u001b[0m \u001b[0misposinf\u001b[0m\u001b[1;33m\u001b[0m\u001b[0m\n",
      "\u001b[1;32md:\\kat\\01 desktop\\2nd year 1st term\\phyton\\lib\\site-packages\\numpy\\core\\numeric.py\u001b[0m in \u001b[0;36m<module>\u001b[1;34m()\u001b[0m\n\u001b[0;32m     28\u001b[0m \u001b[1;32mfrom\u001b[0m \u001b[1;33m.\u001b[0m \u001b[1;32mimport\u001b[0m \u001b[0mnumerictypes\u001b[0m\u001b[1;33m\u001b[0m\u001b[0m\n\u001b[0;32m     29\u001b[0m \u001b[1;32mfrom\u001b[0m \u001b[1;33m.\u001b[0m\u001b[0mnumerictypes\u001b[0m \u001b[1;32mimport\u001b[0m \u001b[0mlonglong\u001b[0m\u001b[1;33m,\u001b[0m \u001b[0mintc\u001b[0m\u001b[1;33m,\u001b[0m \u001b[0mint_\u001b[0m\u001b[1;33m,\u001b[0m \u001b[0mfloat_\u001b[0m\u001b[1;33m,\u001b[0m \u001b[0mcomplex_\u001b[0m\u001b[1;33m,\u001b[0m \u001b[0mbool_\u001b[0m\u001b[1;33m\u001b[0m\u001b[0m\n\u001b[1;32m---> 30\u001b[1;33m \u001b[1;32mfrom\u001b[0m \u001b[1;33m.\u001b[0m\u001b[0m_internal\u001b[0m \u001b[1;32mimport\u001b[0m \u001b[0mTooHardError\u001b[0m\u001b[1;33m,\u001b[0m \u001b[0mAxisError\u001b[0m\u001b[1;33m\u001b[0m\u001b[0m\n\u001b[0m\u001b[0;32m     31\u001b[0m \u001b[1;33m\u001b[0m\u001b[0m\n\u001b[0;32m     32\u001b[0m \u001b[0mbitwise_not\u001b[0m \u001b[1;33m=\u001b[0m \u001b[0minvert\u001b[0m\u001b[1;33m\u001b[0m\u001b[0m\n",
      "\u001b[1;31mModuleNotFoundError\u001b[0m: No module named 'numpy.core._internal'"
     ]
    }
   ],
   "source": [
    "import csv \n",
    "import numpy as np\n",
    "import pandas as pd\n",
    "from pandas import Series\n",
    "import matplotlib\n",
    "import matplotlib.pyplot as plt\n",
    "import matplotlib.style as style\n",
    "import seaborn as sns\n"
   ]
  },
  {
   "cell_type": "markdown",
   "metadata": {},
   "source": [
    "# Reading the data"
   ]
  },
  {
   "cell_type": "code",
   "execution_count": 2,
   "metadata": {},
   "outputs": [
    {
     "ename": "NameError",
     "evalue": "name 'pd' is not defined",
     "output_type": "error",
     "traceback": [
      "\u001b[1;31m---------------------------------------------------------------------------\u001b[0m",
      "\u001b[1;31mNameError\u001b[0m                                 Traceback (most recent call last)",
      "\u001b[1;32m<ipython-input-2-2f9c27b54700>\u001b[0m in \u001b[0;36m<module>\u001b[1;34m()\u001b[0m\n\u001b[1;32m----> 1\u001b[1;33m \u001b[0mdata2\u001b[0m \u001b[1;33m=\u001b[0m \u001b[0mpd\u001b[0m\u001b[1;33m.\u001b[0m\u001b[0mread_csv\u001b[0m\u001b[1;33m(\u001b[0m\u001b[1;34m'starbucks_drinkMenu_expanded.csv'\u001b[0m\u001b[1;33m)\u001b[0m\u001b[1;33m\u001b[0m\u001b[0m\n\u001b[0m",
      "\u001b[1;31mNameError\u001b[0m: name 'pd' is not defined"
     ]
    }
   ],
   "source": [
    "data2 = pd.read_csv('starbucks_drinkMenu_expanded.csv')\n"
   ]
  },
  {
   "cell_type": "markdown",
   "metadata": {},
   "source": [
    "# Cleaning the data "
   ]
  },
  {
   "cell_type": "code",
   "execution_count": null,
   "metadata": {},
   "outputs": [],
   "source": [
    "\n",
    "data2=data2.replace({'varies': '0'}, regex=True)\n",
    "data2 = data2.replace({'Varies': '0'}, regex=True)\n",
    "data2=data2.replace({'%': ''}, regex=True)\n",
    "data2['Caffeine (mg)']=data2['Caffeine (mg)'].fillna('0')\n"
   ]
  },
  {
   "cell_type": "markdown",
   "metadata": {},
   "source": [
    "# Filtering the datatype"
   ]
  },
  {
   "cell_type": "code",
   "execution_count": null,
   "metadata": {},
   "outputs": [],
   "source": [
    "data2[' Total Fat (g)']=pd.to_numeric(data2[' Total Fat (g)'], errors='coerce')\n",
    "data2['Caffeine (mg)']=pd.to_numeric(data2['Caffeine (mg)'], errors='coerce')\n",
    "data2[[data2.columns[13],data2.columns[14],data2.columns[15],data2.columns[16]]] = data2[[data2.columns[13],data2.columns[14],data2.columns[15],data2.columns[16]]].apply(pd.to_numeric) \n",
    "data2[data2.columns[13] ]=pd.to_numeric(data2[data2.columns[13]],errors='coerce')\n",
    "data2=data2[data2['Beverage']!='Tazo® Tea']\n",
    "#data2.sort_values(by=\"Caffeine (mg)\")\n",
    "\n"
   ]
  },
  {
   "cell_type": "code",
   "execution_count": null,
   "metadata": {},
   "outputs": [],
   "source": [
    "cpy=data2.copy()"
   ]
  },
  {
   "cell_type": "markdown",
   "metadata": {},
   "source": [
    "# Getting the info of the dataset"
   ]
  },
  {
   "cell_type": "code",
   "execution_count": null,
   "metadata": {
    "scrolled": true
   },
   "outputs": [],
   "source": [
    "\n",
    "data2.info()\n",
    "data2.describe()\n",
    "#data2.iloc[1:4]"
   ]
  },
  {
   "cell_type": "code",
   "execution_count": null,
   "metadata": {},
   "outputs": [],
   "source": [
    "data2.shape\n"
   ]
  },
  {
   "cell_type": "code",
   "execution_count": null,
   "metadata": {},
   "outputs": [],
   "source": [
    "#data2.groupby('Beverage').Beverage.count()\n"
   ]
  },
  {
   "cell_type": "code",
   "execution_count": null,
   "metadata": {},
   "outputs": [],
   "source": [
    "fig =plt.figure(figsize=(250,250))\n",
    "fig =matplotlib.rcParams.update({'font.size': 100})\n",
    "drink_no=[x for x in range(238)]\n",
    "\n",
    "colors=np.array(['blue', 'orange', 'green', 'red', 'purple', 'brown', 'pink', 'gray', 'olive', 'cyan'])\n",
    "\n",
    "for i in range(15):\n",
    "    xi=plt.subplot2grid((5,3),(i%5,i%3),rowspan=1,colspan=1)\n",
    "    xi.plot(drink_no,data2[data2.columns[i+3]].values,label=data2.columns[i+3],color=colors[i%10],linewidth=20)\n",
    "    xi.set_title(data2.columns[i+3])\n",
    "    \n",
    "plt.legend()\n",
    "plt.show()"
   ]
  },
  {
   "cell_type": "markdown",
   "metadata": {},
   "source": [
    "# Does Size affect the amount of caffeine"
   ]
  },
  {
   "cell_type": "code",
   "execution_count": null,
   "metadata": {},
   "outputs": [],
   "source": [
    "short = data2[data2['Beverage_prep'].str.contains('Short')]\n",
    "\n",
    "tall = data2[data2['Beverage_prep'].str.contains('Tall')]\n",
    "grande = data2[data2['Beverage_prep'].str.contains('Grande')]\n",
    "venti = data2[data2['Beverage_prep'].str.contains('Venti')]\n",
    "\n",
    "s_c=short.append([tall,grande,venti])\n",
    "s_c=s_c.sort_index()\n",
    "\n",
    "\n",
    "#pd.concat(short,tall,ignore_index=True)"
   ]
  },
  {
   "cell_type": "code",
   "execution_count": null,
   "metadata": {},
   "outputs": [],
   "source": [
    "s_c.describe()\n"
   ]
  },
  {
   "cell_type": "code",
   "execution_count": null,
   "metadata": {},
   "outputs": [],
   "source": [
    "sns.set(style=\"whitegrid\")\n"
   ]
  },
  {
   "cell_type": "code",
   "execution_count": null,
   "metadata": {},
   "outputs": [],
   "source": [
    "sns.set(style=\"whitegrid\")\n",
    "f, ax = plt.subplots(figsize=(6, 15))\n",
    "fig =matplotlib.rcParams.update({'font.size':8})\n",
    "\n",
    "#plot caffiene level per size(venti)\n",
    "sns.set_color_codes(\"muted\")\n",
    "sns.barplot(x=venti['Caffeine (mg)'],y=s_c['Beverage'],\n",
    "            label=\"venti\", color=\"g\",ci=None)\n",
    "#plot caffiene level per size(grande)\n",
    "sns.set_color_codes(\"pastel\")\n",
    "sns.barplot(x=grande['Caffeine (mg)'],y=s_c['Beverage'],\n",
    "            label=\"grande\", color=\"g\",ci=None)\n",
    "#plot caffiene level per size(tall)\n",
    "sns.set_color_codes(\"pastel\")\n",
    "sns.barplot(x=tall['Caffeine (mg)'],y=s_c['Beverage'],\n",
    "            label=\"Tall\", color=\"b\",ci=None)\n",
    "#plot caffiene level per size(short)\n",
    "sns.set_color_codes(\"muted\")\n",
    "sns.barplot(x=short['Caffeine (mg)'], y=s_c['Beverage'],\n",
    "            label='Short', color='b',ci=None)\n",
    "\n",
    "\n",
    "ax.legend(ncol=2, loc=\"lower right\", frameon=True)\n",
    "ax.set(xlim=(0, 400),ylabel= \"drinks\",\n",
    "       xlabel =\"Caffiene\")\n",
    "\n",
    "plt.setp(ax.get_legend().get_title(), fontsize='18')\n",
    "plt.setp(ax.get_legend().get_texts(), fontsize='18')\n",
    "plt.title(\"Caffeine per Size\", fontsize=32)\n",
    "sns.despine(left=True, bottom=True)\n",
    "plt.show()\n"
   ]
  },
  {
   "cell_type": "markdown",
   "metadata": {},
   "source": [
    "# As the size increases the amount of caffeine increases <br>\n",
    " note: tazao teas have varies as their caffeine so i made their caffeine to 0\n",
    " "
   ]
  },
  {
   "cell_type": "markdown",
   "metadata": {},
   "source": [
    "# Size affects the sugar amount per drink"
   ]
  },
  {
   "cell_type": "code",
   "execution_count": null,
   "metadata": {},
   "outputs": [],
   "source": [
    "f, ax = plt.subplots(figsize=(6, 15))\n",
    "f =matplotlib.rcParams.update({'font.size':10})\n",
    "\n",
    "#plot caffiene level per size(short)\n",
    "\n",
    "sns.set_color_codes(\"pastel\")\n",
    "sns.barplot(x=venti[' Sugars (g)'],y=s_c['Beverage'],\n",
    "            label=\"venti\", color=\"salmon\",ci=None)\n",
    "\n",
    "\n",
    "sns.set_color_codes(\"pastel\")\n",
    "sns.barplot(x=grande[' Sugars (g)'],y=s_c['Beverage'],\n",
    "            label=\"grande\", color=\"r\",ci=None)\n",
    "\n",
    "sns.set_color_codes(\"pastel\")\n",
    "sns.barplot(x=tall[' Sugars (g)'],y=s_c['Beverage'],\n",
    "            label=\"Tall\", color=\"pink\",ci=None)\n",
    "\n",
    "sns.set_color_codes(\"muted\")\n",
    "sns.barplot(x=short[' Sugars (g)'], y=s_c['Beverage'],\n",
    "            label=\"Short\", color=\"r\",ci=None)\n",
    "\n",
    "\n",
    "\n",
    "\n",
    "ax.legend(ncol=2, loc=\"upper right\", frameon=True)\n",
    "ax.set(xlim=(0, 80), ylabel=\"drink\",\n",
    "       xlabel=\"Sugar\")\n",
    "\n",
    "sns.despine(left=True, bottom=True)\n",
    "\n",
    "\n",
    "plt.title(\"Sugar per Size\", fontsize=32)\n",
    "plt.setp(ax.get_legend().get_title(), fontsize='18')\n",
    "plt.setp(ax.get_legend().get_texts(), fontsize='18')\n",
    "\n",
    "plt.show()"
   ]
  },
  {
   "cell_type": "markdown",
   "metadata": {},
   "source": [
    "# Graph Summary\n",
    "The larger the size the higher the amount of sugar in the drink"
   ]
  },
  {
   "cell_type": "code",
   "execution_count": null,
   "metadata": {},
   "outputs": [],
   "source": [
    "f, ax = plt.subplots(figsize=(6, 15))\n",
    "f =matplotlib.rcParams.update({'font.size':10})\n",
    "\n",
    "#plot caffiene level per size(short)\n",
    "\n",
    "sns.set_color_codes(\"pastel\")\n",
    "sns.barplot(x=venti['Vitamin A (% DV) '],y=s_c['Beverage'],\n",
    "            label=\"venti\", color=\"silver\",ci=None)\n",
    "\n",
    "\n",
    "sns.set_color_codes(\"pastel\")\n",
    "sns.barplot(x=grande['Vitamin A (% DV) '],y=s_c['Beverage'],\n",
    "            label=\"grande\", color=\"khaki\",ci=None)\n",
    "\n",
    "sns.set_color_codes(\"pastel\")\n",
    "sns.barplot(x=tall['Vitamin A (% DV) '],y=s_c['Beverage'],\n",
    "            label=\"Tall\", color=\"lemonchiffon\",ci=None)\n",
    "\n",
    "sns.set_color_codes(\"muted\")\n",
    "sns.barplot(x=short['Vitamin A (% DV) '], y=s_c['Beverage'],\n",
    "            label=\"Short\", color=\"gold\",ci=None)\n",
    "\n",
    "\n",
    "\n",
    "\n",
    "ax.legend(ncol=2, loc=\"upper right\", frameon=True)\n",
    "ax.set(xlim=(0, 60), ylabel=\"drink\",\n",
    "       xlabel=\"Vitamin A (% DV) \")\n",
    "\n",
    "sns.despine(left=True, bottom=True)\n",
    "\n",
    "\n",
    "plt.title(\"Vitamin A (% DV) per Size and Flavor\", fontsize=32)\n",
    "plt.setp(ax.get_legend().get_title(), fontsize='18')\n",
    "plt.setp(ax.get_legend().get_texts(), fontsize='18')\n",
    "\n",
    "plt.show()"
   ]
  },
  {
   "cell_type": "markdown",
   "metadata": {},
   "source": [
    "# Graph Summary\n",
    "The vitamin A increases as the size increases .\n",
    "The realtionship is directly propotional"
   ]
  },
  {
   "cell_type": "code",
   "execution_count": null,
   "metadata": {},
   "outputs": [],
   "source": [
    "s_c.columns\n"
   ]
  },
  {
   "cell_type": "markdown",
   "metadata": {},
   "source": [
    "# Does higher Calories  mean higher Carbohydrates in respect to their sizes?\n"
   ]
  },
  {
   "cell_type": "code",
   "execution_count": null,
   "metadata": {},
   "outputs": [],
   "source": [
    "sns.set_context(\"notebook\", font_scale=1.1)\n",
    "sns.set_style(\"ticks\")\n",
    "\n",
    "sns.lmplot('Calories', # Horizontal axis\n",
    "           ' Total Carbohydrates (g) ', # Vertical axis\n",
    "           data=s_c, # Data source\n",
    "           fit_reg=False, # Don't fix a regression line\n",
    "           hue=\"Beverage_prep\", # Set color\n",
    "           scatter_kws={\"marker\": \"D\", # Set marker style\n",
    "                        \"s\": 100}) # S marker size\n",
    "\n",
    "plt.title(\"Carbohydrates and Calories Relationship\", fontsize=32)\n",
    "\n",
    "plt.show()\n"
   ]
  },
  {
   "cell_type": "markdown",
   "metadata": {},
   "source": [
    "# CONCLUSION :\n",
    "    |Sizes                             |Carbohydrates          |Calories      |\n",
    "    |----------------------------------|-----------------------|--------------|\n",
    "    |Short                             |Low                    |Low           |\n",
    "    |----------------------------------|-----------------------|--------------|\n",
    "    |Short with nonfat milk            |Low to medium          |Low to medium |\n",
    "    |----------------------------------|-----------------------|--------------|\n",
    "    |Tall                              |Low                    |Low to medium |\n",
    "    |----------------------------------|-----------------------|--------------|\n",
    "    |Tall with nonfat milk             |Low to medium          |Low to medium |\n",
    "    |----------------------------------|-----------------------|--------------|\n",
    "    |Grande                            |Low                    |Low to high   |\n",
    "    |----------------------------------|-----------------------|--------------|\n",
    "    |Grande with nonfat milk           |Medium                 |Medium        |\n",
    "    |----------------------------------|-----------------------|--------------|\n",
    "    |Venti                             |Low                    |Low to high   |\n",
    "    |----------------------------------|-----------------------|--------------|\n",
    "    |Venti with nonfat milk            |Medium to high         |Medium to high|\n",
    "    \n",
    "    \n",
    "    \n",
    "    \n",
    "    "
   ]
  },
  {
   "cell_type": "markdown",
   "metadata": {},
   "source": [
    "# Does higher Sugar  mean higher Cholesterol in respect to their sizes?\n"
   ]
  },
  {
   "cell_type": "code",
   "execution_count": null,
   "metadata": {},
   "outputs": [],
   "source": [
    "sns.set_context(\"notebook\", font_scale=1.1)\n",
    "sns.set_style(\"ticks\")\n",
    "\n",
    "sns.lmplot('Cholesterol (mg)', # Horizontal axis\n",
    "           ' Sugars (g)', # Vertical axis\n",
    "           data=s_c, # Data source\n",
    "           fit_reg=False, # Don't fix a regression line\n",
    "           hue=\"Beverage_prep\", # Set color\n",
    "           scatter_kws={\"marker\": \"D\", # Set marker style\n",
    "                        \"s\": 100}) # S marker size\n",
    "\n",
    "plt.title(\"Sugar and Cholesterol Relationship\", fontsize=32)\n",
    "\n",
    "plt.show()"
   ]
  },
  {
   "cell_type": "markdown",
   "metadata": {},
   "source": [
    "# CONCLUSION :\n",
    "    The chart showed the higher the sugar level the higher the amount of choesterol you can get no matter what size you drink."
   ]
  },
  {
   "cell_type": "code",
   "execution_count": null,
   "metadata": {},
   "outputs": [],
   "source": [
    "a= lambda x : x*50\n",
    "c= lambda x : (x/100)*90\n",
    "iron=lambda x : (x/100)*18\n",
    "cal = lambda x :x*10\n",
    "con_data=data2.copy()\n"
   ]
  },
  {
   "cell_type": "markdown",
   "metadata": {},
   "source": [
    "#  conversion of nutrients\n",
    "##  A to IU \n",
    "##  C to mg\n",
    "##  Iron  to mg\n",
    "##  Calcium to mg"
   ]
  },
  {
   "cell_type": "code",
   "execution_count": null,
   "metadata": {},
   "outputs": [],
   "source": [
    "con_data['Vitamin A (% DV) '] = a(data2['Vitamin A (% DV) '].copy())\n",
    "con_data['Vitamin C (% DV)'] = c(data2['Vitamin C (% DV)'].copy())\n",
    "con_data[' Calcium (% DV) '] = cal(data2[' Calcium (% DV) '].copy())\n",
    "con_data['Iron (% DV) '] = iron(data2['Iron (% DV) '].copy())\n"
   ]
  },
  {
   "cell_type": "code",
   "execution_count": null,
   "metadata": {},
   "outputs": [],
   "source": [
    "con_data.columns=['Beverage_category', 'Beverage', 'Beverage_prep', 'Calories',\n",
    "       ' Total Fat (g)', 'Trans Fat (g) ', 'Saturated Fat (g)', ' Sodium (mg)',\n",
    "       ' Total Carbohydrates (g) ', 'Cholesterol (mg)', ' Dietary Fibre (g)',\n",
    "       ' Sugars (g)', ' Protein (g) ', 'Vitamin A (IU) ', 'Vitamin C (mg)',\n",
    "       ' Calcium (mg) ', 'Iron (mg) ', 'Caffeine (mg)']"
   ]
  },
  {
   "cell_type": "markdown",
   "metadata": {},
   "source": [
    "# What would happen if you drank every drink in starbucks?"
   ]
  },
  {
   "cell_type": "code",
   "execution_count": null,
   "metadata": {},
   "outputs": [],
   "source": [
    "con_data.sum()"
   ]
  },
  {
   "cell_type": "code",
   "execution_count": null,
   "metadata": {
    "scrolled": true
   },
   "outputs": [],
   "source": [
    "#test = data2[(data2['Beverage_prep'].str.contains('Short'))&(data2['Caffeine (mg)']<=200)]\n",
    "test = data2[data2['Beverage_prep'].str.contains('Short')]\n",
    "\n",
    "cold_drinks=data2[(data2['Beverage_category'].str.contains('Shaken Iced Beverages'))|(data2['Beverage_category'].str.contains('Smoothies'))|(data2['Beverage_category'].str.contains('FrappuccinoÂ®'))]\n",
    "hot_drinks=data2[(data2['Beverage_category'].str.contains('Espresso'))|(data2['Beverage'].str.contains('Brewed Coffee'))&(~data2['Beverage'].str.contains('Iced'))|(data2['Beverage_category'].str.contains('TazoÂ® Tea Drinks'))]\n",
    "\n",
    "h_kid12 = hot_drinks[hot_drinks['Caffeine (mg)']<=45]\n",
    "h_kid18 = hot_drinks[hot_drinks['Caffeine (mg)']<=45]\n",
    "h_conditions = hot_drinks[hot_drinks['Caffeine (mg)']<=200]\n",
    "c_kid12 = cold_drinks[cold_drinks['Caffeine (mg)']<=45]\n",
    "c_kid18 = cold_drinks[cold_drinks['Caffeine (mg)']<=45]\n",
    "c_conditions = cold_drinks[cold_drinks['Caffeine (mg)']<=200]\n"
   ]
  },
  {
   "cell_type": "code",
   "execution_count": null,
   "metadata": {},
   "outputs": [],
   "source": [
    "hot_drinks"
   ]
  },
  {
   "cell_type": "markdown",
   "metadata": {},
   "source": [
    "# Conversion to DV"
   ]
  },
  {
   "cell_type": "code",
   "execution_count": null,
   "metadata": {},
   "outputs": [],
   "source": [
    "calories = lambda x : (x/2000)*100 \n",
    "total_f = lambda x : (x/65)*100\n",
    "sat_f = lambda x : (x/20)*100\n",
    "sodium = lambda x : (x/2400)*100\n",
    "total_carbs = lambda x : (x/300)*100\n",
    "chol= lambda x : (x/300)*100\n",
    "dietary_f= lambda x : (x/25)*100\n",
    "sugar= lambda x : (x/50)*100\n",
    "protein= lambda x : (x/50)*100\n",
    "dv_data = cpy.copy()\n",
    "data2.columns"
   ]
  },
  {
   "cell_type": "code",
   "execution_count": null,
   "metadata": {},
   "outputs": [],
   "source": [
    "# converting everything to dv\n",
    "\n",
    "dv_data['Calories']=calories(cpy['Calories'].copy())\n",
    "dv_data[' Total Fat (g)'] = total_f(cpy[' Total Fat (g)'].copy())\n",
    "dv_data['Saturated Fat (g)'] = sat_f(cpy['Saturated Fat (g)'].copy())\n",
    "dv_data[' Sodium (mg)'] = sodium(cpy[' Sodium (mg)'].copy())\n",
    "dv_data[' Total Carbohydrates (g) ']=total_carbs(cpy[' Total Carbohydrates (g) '].copy())\n",
    "dv_data['Cholesterol (mg)'] = chol(cpy['Cholesterol (mg)'].copy() )\n",
    "dv_data[' Dietary Fibre (g)'] = dietary_f(cpy[' Dietary Fibre (g)'].copy())\n",
    "dv_data[' Sugars (g)']=sugar(cpy[' Sugars (g)'].copy())\n",
    "dv_data[' Protein (g) ']=protein(cpy[' Protein (g) '].copy())\n",
    "\n",
    "#calories(data2['Calories'])"
   ]
  },
  {
   "cell_type": "markdown",
   "metadata": {},
   "source": [
    "# Health conversion\n",
    "low_attribute= 0-5 DV <br> \n",
    "high_attribute=20-100 DV <br>\n",
    "from: https://www.fda.gov/Food/ResourcesForYou/Consumers/ucm267499.htm"
   ]
  },
  {
   "cell_type": "code",
   "execution_count": null,
   "metadata": {},
   "outputs": [],
   "source": [
    "healthy_drinks=dv_data[(dv_data['Calories']<20)&(dv_data['Saturated Fat (g)'] <20)&(dv_data[' Sodium (mg)'] <20)&(dv_data[' Total Carbohydrates (g) ']<20)&(dv_data['Cholesterol (mg)']<20)& (dv_data[' Dietary Fibre (g)']>20)&(dv_data[' Sugars (g)']<20)&(dv_data[' Protein (g) ']>20)]"
   ]
  },
  {
   "cell_type": "code",
   "execution_count": null,
   "metadata": {},
   "outputs": [],
   "source": [
    "\n",
    "low_calorie_drinks=dv_data[(dv_data['Calories']<20)&(dv_data[' Total Fat (g)']<20)&(dv_data['Saturated Fat (g)'] <20)&(dv_data[' Sodium (mg)'] <20)&(dv_data[' Total Carbohydrates (g) ']<20)&(dv_data['Cholesterol (mg)']<20)&(dv_data[' Sugars (g)']<20)]\n",
    "low_calorie_drinks\n",
    "low_calorie_drinks"
   ]
  },
  {
   "cell_type": "markdown",
   "metadata": {},
   "source": [
    "# Other solution"
   ]
  },
  {
   "cell_type": "code",
   "execution_count": null,
   "metadata": {},
   "outputs": [],
   "source": [
    "names = dv_data['Beverage']\n",
    "cal20 = dv_data['Calories'].where(dv_data['Calories']<20)\n",
    "total_fat = dv_data[' Total Fat (g)'].where(dv_data[' Total Fat (g)']<20 )\n",
    "sat_fat = dv_data['Saturated Fat (g)'].where(dv_data['Saturated Fat (g)']<20 )\n",
    "sodium = dv_data[' Sodium (mg)'].where(dv_data[' Sodium (mg)']<20 )\n",
    "total_carb =  dv_data[' Total Carbohydrates (g) '].where(dv_data[' Total Carbohydrates (g) ']<20)\n",
    "chol =  dv_data['Cholesterol (mg)'].where(dv_data['Cholesterol (mg)']<20)\n",
    "sugar =  dv_data[' Sugars (g)'].where(dv_data[' Sugars (g)']<20)\n",
    "healthy = names.to_frame().join(dv_data['Beverage_prep'].to_frame()).join(cal20.to_frame()).join(total_fat.to_frame()).join(sat_fat.to_frame()).join(sodium.to_frame() ).join(chol.to_frame()).join(sugar.to_frame()).join(total_carb.to_frame())\n",
    "healthy.dropna()"
   ]
  },
  {
   "cell_type": "markdown",
   "metadata": {},
   "source": [
    "# These are the drinks that have<br>\n",
    "     Low calories \n",
    "     Low Total Fat (g) \n",
    "     Low Saturated Fat (g) \n",
    "     Low Sodium (mg) \n",
    "     Low Cholesterol (mg) \n",
    "     Low Sugars (g) \n",
    "     Low Total Carbohydrates (g) "
   ]
  },
  {
   "cell_type": "markdown",
   "metadata": {},
   "source": [
    "# Highest nutrient drink"
   ]
  },
  {
   "cell_type": "code",
   "execution_count": null,
   "metadata": {},
   "outputs": [],
   "source": [
    "most_nutrients=dv_data[(dv_data['Vitamin A (% DV) ']>20)&(dv_data['Vitamin C (% DV)']>20)&(dv_data['Iron (% DV) ']>20)]\n",
    "most_nutrients"
   ]
  },
  {
   "cell_type": "code",
   "execution_count": null,
   "metadata": {},
   "outputs": [],
   "source": [
    "\n",
    "weather = int(input(\"weather\\n1: hot\\n2: cold \\n\"))\n",
    "while(weather<1 and weather>=3):\n",
    "    print(\"invalid input \")\n",
    "    weather = input(\"weather\\n1: hot\\n2: cold \\n\")\n",
    "condition = int(input(\"1:diabetic \\n2:Pregnant \\n3:heartConditions\\n4:None\\n \"))\n",
    "while(condition <1 and condition >5):\n",
    "    print(\"invalid input \")\n",
    "    condition = int(input(\"1:diabetic \\n2:Pregnant \\n3:heartConditions\\n4:None\\n \"))\n",
    "age = int(input(\"Enter Age\"))\n",
    "while(age<0 and age>200):\n",
    "    print(\"invalid input \")\n",
    "    age = int(input(\"Enter Age\"))\n",
    "    \n",
    "if condition != 4:\n",
    "    if weather == 1:\n",
    "        print(c_conditions.sample())\n",
    "    else:\n",
    "        print(h_conditions.sample())\n",
    "else:\n",
    "    if age <=12 :\n",
    "        if weather == 1:\n",
    "            print(c_kid12.sample())\n",
    "        else :\n",
    "            print(h_kid12.sample())\n",
    "    elif age<=18:\n",
    "        if weather == 1:\n",
    "            print(c_kid18.sample())\n",
    "        else:\n",
    "            print(h_kid18.sample())\n",
    "    else:\n",
    "        if weather == 1:\n",
    "            print(cold_drinks.sample())\n",
    "        else:\n",
    "            print(hot_drinks.sample())\n",
    "        \n",
    "        "
   ]
  },
  {
   "cell_type": "code",
   "execution_count": null,
   "metadata": {},
   "outputs": [],
   "source": []
  },
  {
   "cell_type": "code",
   "execution_count": null,
   "metadata": {},
   "outputs": [],
   "source": []
  }
 ],
 "metadata": {
  "kernelspec": {
   "display_name": "Python 3",
   "language": "python",
   "name": "python3"
  },
  "language_info": {
   "codemirror_mode": {
    "name": "ipython",
    "version": 3
   },
   "file_extension": ".py",
   "mimetype": "text/x-python",
   "name": "python",
   "nbconvert_exporter": "python",
   "pygments_lexer": "ipython3",
   "version": "3.6.2"
  }
 },
 "nbformat": 4,
 "nbformat_minor": 2
}
